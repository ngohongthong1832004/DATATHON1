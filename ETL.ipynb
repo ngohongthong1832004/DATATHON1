{
 "cells": [
  {
   "cell_type": "code",
   "execution_count": 1,
   "metadata": {},
   "outputs": [
    {
     "name": "stdout",
     "output_type": "stream",
     "text": [
      "Collecting openpyxl\n",
      "  Downloading openpyxl-3.1.2-py2.py3-none-any.whl (249 kB)\n",
      "     ---------------------------------------- 0.0/250.0 kB ? eta -:--:--\n",
      "     - -------------------------------------- 10.2/250.0 kB ? eta -:--:--\n",
      "     ----------------- -------------------- 112.6/250.0 kB 1.3 MB/s eta 0:00:01\n",
      "     -------------------------------------- 250.0/250.0 kB 2.6 MB/s eta 0:00:00\n",
      "Collecting et-xmlfile (from openpyxl)\n",
      "  Downloading et_xmlfile-1.1.0-py3-none-any.whl (4.7 kB)\n",
      "Installing collected packages: et-xmlfile, openpyxl\n",
      "Successfully installed et-xmlfile-1.1.0 openpyxl-3.1.2\n"
     ]
    },
    {
     "name": "stderr",
     "output_type": "stream",
     "text": [
      "\n",
      "[notice] A new release of pip is available: 23.2.1 -> 23.3.1\n",
      "[notice] To update, run: python.exe -m pip install --upgrade pip\n"
     ]
    },
    {
     "name": "stdout",
     "output_type": "stream",
     "text": [
      "Collecting pandas\n",
      "  Obtaining dependency information for pandas from https://files.pythonhosted.org/packages/df/92/a3fa053c74198f9f0224b2c04dc74f41d2e14e30329c082f7a657f9ca4c5/pandas-2.1.3-cp312-cp312-win_amd64.whl.metadata\n",
      "  Downloading pandas-2.1.3-cp312-cp312-win_amd64.whl.metadata (18 kB)\n",
      "Collecting numpy<2,>=1.26.0 (from pandas)\n",
      "  Obtaining dependency information for numpy<2,>=1.26.0 from https://files.pythonhosted.org/packages/28/75/3b679b41713bb60e2e8f6e2f87be72c971c9e718b1c17b8f8749240ddca8/numpy-1.26.2-cp312-cp312-win_amd64.whl.metadata\n",
      "  Downloading numpy-1.26.2-cp312-cp312-win_amd64.whl.metadata (61 kB)\n",
      "     ---------------------------------------- 0.0/61.2 kB ? eta -:--:--\n",
      "     ---------------------------------------- 61.2/61.2 kB 1.6 MB/s eta 0:00:00\n",
      "Requirement already satisfied: python-dateutil>=2.8.2 in c:\\users\\hanhn\\appdata\\roaming\\python\\python312\\site-packages (from pandas) (2.8.2)\n",
      "Collecting pytz>=2020.1 (from pandas)\n",
      "  Obtaining dependency information for pytz>=2020.1 from https://files.pythonhosted.org/packages/32/4d/aaf7eff5deb402fd9a24a1449a8119f00d74ae9c2efa79f8ef9994261fc2/pytz-2023.3.post1-py2.py3-none-any.whl.metadata\n",
      "  Downloading pytz-2023.3.post1-py2.py3-none-any.whl.metadata (22 kB)\n",
      "Collecting tzdata>=2022.1 (from pandas)\n",
      "  Downloading tzdata-2023.3-py2.py3-none-any.whl (341 kB)\n",
      "     ---------------------------------------- 0.0/341.8 kB ? eta -:--:--\n",
      "     ------------------------------------- 341.8/341.8 kB 20.7 MB/s eta 0:00:00\n",
      "Requirement already satisfied: six>=1.5 in c:\\users\\hanhn\\appdata\\roaming\\python\\python312\\site-packages (from python-dateutil>=2.8.2->pandas) (1.16.0)\n",
      "Downloading pandas-2.1.3-cp312-cp312-win_amd64.whl (10.5 MB)\n",
      "   ---------------------------------------- 0.0/10.5 MB ? eta -:--:--\n",
      "   --- ------------------------------------ 0.9/10.5 MB 18.1 MB/s eta 0:00:01\n",
      "   ----- ---------------------------------- 1.4/10.5 MB 14.6 MB/s eta 0:00:01\n",
      "   ------- -------------------------------- 2.1/10.5 MB 18.9 MB/s eta 0:00:01\n",
      "   ------------ --------------------------- 3.2/10.5 MB 18.4 MB/s eta 0:00:01\n",
      "   ------------- -------------------------- 3.6/10.5 MB 16.5 MB/s eta 0:00:01\n",
      "   --------------- ------------------------ 4.1/10.5 MB 15.5 MB/s eta 0:00:01\n",
      "   ------------------ --------------------- 5.0/10.5 MB 16.7 MB/s eta 0:00:01\n",
      "   ----------------------- ---------------- 6.1/10.5 MB 16.9 MB/s eta 0:00:01\n",
      "   ----------------------------- ---------- 7.7/10.5 MB 18.8 MB/s eta 0:00:01\n",
      "   ---------------------------------- ----- 9.0/10.5 MB 19.8 MB/s eta 0:00:01\n",
      "   ---------------------------------------  10.3/10.5 MB 20.5 MB/s eta 0:00:01\n",
      "   ---------------------------------------- 10.5/10.5 MB 19.2 MB/s eta 0:00:00\n",
      "Downloading numpy-1.26.2-cp312-cp312-win_amd64.whl (15.5 MB)\n",
      "   ---------------------------------------- 0.0/15.5 MB ? eta -:--:--\n",
      "   ---- ----------------------------------- 1.8/15.5 MB 38.8 MB/s eta 0:00:01\n",
      "   -------- ------------------------------- 3.2/15.5 MB 33.4 MB/s eta 0:00:01\n",
      "   ------------ --------------------------- 4.8/15.5 MB 33.7 MB/s eta 0:00:01\n",
      "   --------------- ------------------------ 6.0/15.5 MB 32.3 MB/s eta 0:00:01\n",
      "   ------------------ --------------------- 7.2/15.5 MB 33.0 MB/s eta 0:00:01\n",
      "   ---------------------- ----------------- 8.9/15.5 MB 33.5 MB/s eta 0:00:01\n",
      "   -------------------------- ------------- 10.1/15.5 MB 34.1 MB/s eta 0:00:01\n",
      "   ------------------------------ --------- 11.8/15.5 MB 32.7 MB/s eta 0:00:01\n",
      "   --------------------------------- ------ 12.9/15.5 MB 31.1 MB/s eta 0:00:01\n",
      "   ------------------------------------ --- 14.0/15.5 MB 29.8 MB/s eta 0:00:01\n",
      "   ---------------------------------------  15.2/15.5 MB 31.2 MB/s eta 0:00:01\n",
      "   ---------------------------------------  15.5/15.5 MB 29.7 MB/s eta 0:00:01\n",
      "   ---------------------------------------- 15.5/15.5 MB 23.3 MB/s eta 0:00:00\n",
      "Downloading pytz-2023.3.post1-py2.py3-none-any.whl (502 kB)\n",
      "   ---------------------------------------- 0.0/502.5 kB ? eta -:--:--\n",
      "   --------------------------------------- 502.5/502.5 kB 30.8 MB/s eta 0:00:00\n",
      "Installing collected packages: pytz, tzdata, numpy, pandas\n",
      "Successfully installed numpy-1.26.2 pandas-2.1.3 pytz-2023.3.post1 tzdata-2023.3\n"
     ]
    },
    {
     "name": "stderr",
     "output_type": "stream",
     "text": [
      "\n",
      "[notice] A new release of pip is available: 23.2.1 -> 23.3.1\n",
      "[notice] To update, run: python.exe -m pip install --upgrade pip\n"
     ]
    }
   ],
   "source": [
    "!pip install openpyxl\n",
    "!pip install pandas"
   ]
  },
  {
   "cell_type": "code",
   "execution_count": 2,
   "metadata": {},
   "outputs": [],
   "source": [
    "import glob \n",
    "import pandas as pd \n",
    "import xml.etree.ElementTree as ET \n",
    "from datetime import datetime \n",
    "import os\n",
    "  "
   ]
  },
  {
   "cell_type": "code",
   "execution_count": 3,
   "metadata": {},
   "outputs": [
    {
     "name": "stdout",
     "output_type": "stream",
     "text": [
      "read 30-04-2022_Ton Kho 1201 - 1230.xlsx successfully\n",
      "read 30-06-2022_Ton Kho 1201 - 1299.xlsx successfully\n",
      "read 30-09-2022_Ton Kho 1201 - 1210.xlsx successfully\n",
      "read 30-11-2022_Ton Kho 1201 - 1210.xlsx successfully\n",
      "read 31-01-2022_Ton Kho 1201 - 1210.xlsx successfully\n",
      "read 31-03-2022_Ton Kho 1201 - 1210.xlsx successfully\n",
      "read 31-05-2022_Ton Kho 1201 - 1299.xlsx successfully\n",
      "read 31-07-2022_Ton Kho 1201 - 1299.xlsx successfully\n",
      "read 31-08-2022_Ton Kho 1201 - 1210.xlsx successfully\n",
      "read 31-10-2022_Ton Kho 1201 - 1210.xlsx successfully\n",
      "read 31-12-2022_Ton Kho 1201 - 1210.xlsx successfully\n"
     ]
    }
   ],
   "source": [
    "target_file = \"inventory.csv\"\n",
    "\n",
    "def extract_from_excel(file_to_process):\n",
    "    dataframe = pd.read_excel(file_to_process)\n",
    "    dataframe.dropna(inplace=True)\n",
    "    dataframe = dataframe.drop(columns=['Unnamed: 0'])\n",
    "    return dataframe\n",
    "\n",
    "def extract():\n",
    "    extracted_data = pd.DataFrame(columns=['index', 'plant', 'calendar_year', 'calendar_year_week', 'sloc', 'quantity', 'total_amount', 'product_id'])\n",
    "\n",
    "    for csvfile in glob.glob(\"./InventoryAndSale_snapshot_data/Inventory_snapshot_data/*.xlsx\"):\n",
    "        file_name = os.path.basename(csvfile)\n",
    "        extracted_data = pd.concat([extracted_data, pd.DataFrame(extract_from_excel(csvfile))], ignore_index=True)\n",
    "        print(f\"read {file_name} successfully\")\n",
    "\n",
    "    return extracted_data\n",
    "\n",
    "dataframe = extract()\n",
    "\n",
    "def load_data(target_file, dataframe):\n",
    "    dataframe.to_csv(target_file, index=False)\n",
    "\n",
    "load_data(target_file, dataframe)\n"
   ]
  },
  {
   "cell_type": "code",
   "execution_count": 4,
   "metadata": {},
   "outputs": [
    {
     "name": "stdout",
     "output_type": "stream",
     "text": [
      "read TT T01-2022_split_1.xlsx successfully\n",
      "read TT T01-2023_split_1.xlsx successfully\n",
      "read TT T02-2022_split_1.xlsx successfully\n",
      "read TT T02-2023_split_1.xlsx successfully\n",
      "read TT T03-2022_split_1.xlsx successfully\n",
      "read TT T03-2023_split_1.xlsx successfully\n",
      "read TT T04-2022_split_1.xlsx successfully\n",
      "read TT T04-2023_split_1.xlsx successfully\n",
      "read TT T05-2022_split_1.xlsx successfully\n",
      "read TT T05-2023_split_1.xlsx successfully\n",
      "read TT T06-2022_split_1.xlsx successfully\n",
      "read TT T06-2023_split_1.xlsx successfully\n",
      "read TT T07-2022_split_1.xlsx successfully\n",
      "read TT T07-2023_split_1.xlsx successfully\n",
      "read TT T08-2022_split_1.xlsx successfully\n",
      "read TT T09-2022_split_1.xlsx successfully\n",
      "read TT T10-2022_split_1.xlsx successfully\n",
      "read TT T11-2022_split_1.xlsx successfully\n",
      "read TT T12-2022_split_1.xlsx successfully\n"
     ]
    }
   ],
   "source": [
    "target_file = \"sale.csv\"\n",
    "\n",
    "def extract_from_excel(file_to_process):\n",
    "    dataframe = pd.read_excel(file_to_process)\n",
    "    dataframe.dropna(inplace=True)\n",
    "    return dataframe\n",
    "\n",
    "def extract():\n",
    "    extracted_data = pd.DataFrame(columns=['month', 'week', 'site', 'branch_id', 'channel_id', 'distribution_channel', 'distribution_channel_code', 'sold_quantity', 'cost_price', 'net_price', 'customer_id', 'product_id'])\n",
    "    for csvfile in glob.glob(\"./InventoryAndSale_snapshot_data/Sales_snapshot_data/*.xlsx\"):\n",
    "        file_name = os.path.basename(csvfile)\n",
    "        extracted_data = pd.concat([extracted_data, pd.DataFrame(extract_from_excel(csvfile))], ignore_index=True)\n",
    "        print(f\"read {file_name} successfully\")\n",
    "        \n",
    "\n",
    "    return extracted_data\n",
    "\n",
    "dataframe = extract()\n",
    "\n",
    "def load_data(target_file, dataframe):\n",
    "    dataframe.to_csv(target_file, index=False)\n",
    "\n",
    "load_data(target_file, dataframe)\n"
   ]
  },
  {
   "cell_type": "code",
   "execution_count": 5,
   "metadata": {},
   "outputs": [
    {
     "name": "stdout",
     "output_type": "stream",
     "text": [
      "read COGS.xlsx successfully\n"
     ]
    }
   ],
   "source": [
    "target_file = \"COGS.csv\"\n",
    "\n",
    "def extract_from_excel(file_to_process):\n",
    "    dataframe = pd.read_excel(file_to_process)\n",
    "    dataframe.dropna(inplace=True)\n",
    "    return dataframe\n",
    "\n",
    "def extract():\n",
    "    extracted_data = pd.DataFrame(columns=['index', 'amount', 'valid_from', 'valid_to', 'product_id'])\n",
    "    for csvfile in glob.glob(\"./InventoryAndSale_snapshot_data/MasterData/COGS.xlsx\"):\n",
    "        file_name = os.path.basename(csvfile)\n",
    "        extracted_data = pd.concat([extracted_data, pd.DataFrame(extract_from_excel(csvfile))], ignore_index=True)\n",
    "        print(f\"read {file_name} successfully\")\n",
    "        \n",
    "\n",
    "    return extracted_data\n",
    "\n",
    "dataframe = extract()\n",
    "\n",
    "def load_data(target_file, dataframe):\n",
    "    dataframe.to_csv(target_file, index=False)\n",
    "\n",
    "load_data(target_file, dataframe)\n"
   ]
  },
  {
   "cell_type": "code",
   "execution_count": 6,
   "metadata": {},
   "outputs": [],
   "source": [
    "# target_file = \"Distribution_Channel.csv\"\n",
    "\n",
    "# def extract_from_excel(file_to_process):\n",
    "#     dataframe = pd.read_excel(file_to_process)\n",
    "#     dataframe.dropna(inplace=True)\n",
    "#     dataframe = dataframe.drop(columns=['Unnamed: 0'])\n",
    "#     return dataframe\n",
    "\n",
    "# def extract():\n",
    "#     extracted_data = pd.DataFrame(columns=['index', 'site_store', 'b2b_b2c', 'channel_id', 'region', 'city_level', 'store_concept', 'trade_term', 'area_range', 'store_type', 'store_type', 'urbanization', 'branch_area', 'address_2', 'address_3', 'showroom_area', 'warehouse_area', 'start_month', 'start_year', 'end_month', 'end_year', 'note', 'customer_id', 'customer_name'])\n",
    "#     for csvfile in glob.glob(\"./InventoryAndSale_snapshot_data/MasterData/Distribution Channel.xlsx\"):\n",
    "#         file_name = os.path.basename(csvfile)\n",
    "#         extracted_data = pd.concat([extracted_data, pd.DataFrame(extract_from_excel(csvfile))], ignore_index=True)\n",
    "#         print(f\"read {file_name} successfully\")\n",
    "#     return extracted_data\n",
    "\n",
    "# dataframe = extract()\n",
    "\n",
    "# def load_data(target_file, dataframe):\n",
    "#     dataframe.to_csv(target_file, index=False)\n",
    "\n",
    "# load_data(target_file, dataframe)\n"
   ]
  },
  {
   "cell_type": "code",
   "execution_count": 7,
   "metadata": {},
   "outputs": [],
   "source": [
    "target_file = \"Distribution_Channel.csv\"\n",
    "def extract():\n",
    "    extracted_data = pd.read_excel(\"./InventoryAndSale_snapshot_data/MasterData/Distribution Channel.xlsx\")\n",
    "    # extracted_data.dropna(inplace=True)\n",
    "    extracted_data = extracted_data.drop(columns=['Unnamed: 0'])\n",
    "    return extracted_data\n",
    "\n",
    "dataframe = extract()\n",
    "\n",
    "def load_data(target_file, dataframe):\n",
    "    dataframe.to_csv(target_file, index=False)\n",
    "\n",
    "load_data(target_file, dataframe)\n",
    "\n"
   ]
  },
  {
   "cell_type": "code",
   "execution_count": 8,
   "metadata": {},
   "outputs": [],
   "source": [
    "target_file = \"New_Core_Classification.csv\"\n",
    "def extract():\n",
    "    extracted_data = pd.read_excel(\"./InventoryAndSale_snapshot_data/MasterData/New_Core_Classification.xlsx\")\n",
    "    # extracted_data.dropna(inplace=True)\n",
    "    extracted_data = extracted_data.drop(columns=['Unnamed: 0'])\n",
    "    return extracted_data\n",
    "\n",
    "dataframe = extract()\n",
    "\n",
    "def load_data(target_file, dataframe):\n",
    "    dataframe.to_csv(target_file, index=False)\n",
    "\n",
    "load_data(target_file, dataframe)\n"
   ]
  },
  {
   "cell_type": "code",
   "execution_count": 9,
   "metadata": {},
   "outputs": [],
   "source": [
    "target_file = \"Productmaster.csv\"\n",
    "def extract():\n",
    "    extracted_data = pd.read_excel(\"./InventoryAndSale_snapshot_data/MasterData/Productmaster.xlsx\")\n",
    "    # extracted_data.dropna(inplace=True)\n",
    "    extracted_data = extracted_data.drop(columns=['Unnamed: 0'])\n",
    "    return extracted_data\n",
    "\n",
    "dataframe = extract()\n",
    "\n",
    "def load_data(target_file, dataframe):\n",
    "    dataframe.to_csv(target_file, index=False)\n",
    "\n",
    "load_data(target_file, dataframe)"
   ]
  },
  {
   "cell_type": "code",
   "execution_count": 10,
   "metadata": {},
   "outputs": [],
   "source": [
    "target_file = \"Retail_price\"\n",
    "def extract():\n",
    "    extracted_data = pd.read_excel(\"./InventoryAndSale_snapshot_data/MasterData/Retail_price.xlsx\")\n",
    "    # extracted_data.dropna(inplace=True)\n",
    "    extracted_data = extracted_data.drop(columns=['Unnamed: 0'])\n",
    "    return extracted_data\n",
    "\n",
    "dataframe = extract()\n",
    "\n",
    "def load_data(target_file, dataframe):\n",
    "    dataframe.to_csv(target_file, index=False)\n",
    "\n",
    "load_data(target_file, dataframe)"
   ]
  },
  {
   "cell_type": "code",
   "execution_count": null,
   "metadata": {},
   "outputs": [],
   "source": [
    "target_file = \"Master_Calendar.csv\"\n",
    "def extract():\n",
    "    extracted_data = pd.read_excel(\"./InventoryAndSale_snapshot_data/MasterData/Master_Calendar.xlsx\")\n",
    "    # extracted_data.dropna(inplace=True)\n",
    "    # extracted_data = extracted_data.drop(columns=['Unnamed: 0'])\n",
    "    return extracted_data\n",
    "\n",
    "dataframe = extract()\n",
    "\n",
    "def load_data(target_file, dataframe):\n",
    "    dataframe.to_csv(target_file, index=False)\n",
    "\n",
    "load_data(target_file, dataframe)\n"
   ]
  },
  {
   "cell_type": "markdown",
   "metadata": {},
   "source": []
  }
 ],
 "metadata": {
  "kernelspec": {
   "display_name": "Python 3",
   "language": "python",
   "name": "python3"
  },
  "language_info": {
   "codemirror_mode": {
    "name": "ipython",
    "version": 3
   },
   "file_extension": ".py",
   "mimetype": "text/x-python",
   "name": "python",
   "nbconvert_exporter": "python",
   "pygments_lexer": "ipython3",
   "version": "3.12.0"
  }
 },
 "nbformat": 4,
 "nbformat_minor": 2
}
